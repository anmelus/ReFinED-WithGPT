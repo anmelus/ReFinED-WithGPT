{
 "cells": [
  {
   "cell_type": "code",
   "execution_count": 41,
   "id": "3ef4e9a1-bdc4-4a90-972e-174f0f34a19a",
   "metadata": {},
   "outputs": [],
   "source": [
    "import lmdb\n",
    "import json\n",
    "import csv"
   ]
  },
  {
   "cell_type": "code",
   "execution_count": 42,
   "id": "0927e562-2ff0-45e0-bd2b-74cdf60e97cf",
   "metadata": {},
   "outputs": [
    {
     "name": "stdout",
     "output_type": "stream",
     "text": [
      "1000000\n",
      "2000000\n",
      "3000000\n",
      "4000000\n",
      "5000000\n",
      "6000000\n",
      "7000000\n",
      "8000000\n",
      "9000000\n",
      "10000000\n",
      "11000000\n",
      "12000000\n",
      "13000000\n",
      "14000000\n",
      "15000000\n",
      "16000000\n",
      "17000000\n",
      "18000000\n",
      "19000000\n",
      "20000000\n",
      "21000000\n",
      "22000000\n",
      "23000000\n",
      "24000000\n",
      "25000000\n",
      "26000000\n",
      "27000000\n",
      "28000000\n",
      "29000000\n",
      "30000000\n",
      "31000000\n",
      "32000000\n",
      "33000000\n",
      "34000000\n",
      "35000000\n",
      "36000000\n",
      "37000000\n",
      "38000000\n",
      "39000000\n",
      "40000000\n",
      "41000000\n",
      "42000000\n",
      "43000000\n",
      "44000000\n"
     ]
    }
   ],
   "source": [
    "path = \"/Users/farhadghassemi/.cache/refined/wikidata_data/pem.lmdb\"\n",
    "lmdb_env = lmdb.open(path, max_dbs=1, readonly=True, create=True, writemap=False,\n",
    "                     subdir=False, map_size=1099511627776 * 2,\n",
    "                     meminit=False, map_async=True, mode=0o755,lock=False)\n",
    "qids = set()\n",
    "with lmdb_env.begin() as lmdb_txn:\n",
    "    lmdb_cursor = lmdb_txn.cursor()\n",
    "    i  = 0\n",
    "    for key, value in lmdb_cursor:\n",
    "        value = json.loads(value.decode(\"utf-8\"))\n",
    "        for qid, score in value:\n",
    "            qids.add(qid)\n",
    "        i += 1\n",
    "        if i%1000000==0:\n",
    "            print(i)"
   ]
  },
  {
   "cell_type": "code",
   "execution_count": 43,
   "id": "9c17b536-62a0-4253-93b9-b955422eeb20",
   "metadata": {},
   "outputs": [
    {
     "name": "stdout",
     "output_type": "stream",
     "text": [
      "33123012\n"
     ]
    }
   ],
   "source": [
    "print(len(qids))"
   ]
  },
  {
   "cell_type": "code",
   "execution_count": 46,
   "id": "27304263-5961-423c-acb4-a234f34057a3",
   "metadata": {},
   "outputs": [
    {
     "name": "stdout",
     "output_type": "stream",
     "text": [
      "1000000\n",
      "2000000\n",
      "3000000\n",
      "4000000\n",
      "5000000\n",
      "6000000\n",
      "7000000\n",
      "8000000\n",
      "9000000\n"
     ]
    }
   ],
   "source": [
    "path = \"/Users/farhadghassemi/.cache/refined/wikidata_data/human_qcodes.json\"\n",
    "with open(path) as csvfile:\n",
    "    csvreader = csv.reader(csvfile)\n",
    "    i  = 0\n",
    "    for row in csvreader:\n",
    "        qid = row[0]\n",
    "        qids.add(qid)\n",
    "        i += 1\n",
    "        if i%1000000==0:\n",
    "            print(i)"
   ]
  },
  {
   "cell_type": "code",
   "execution_count": 45,
   "id": "635554d3-69bd-4a19-b86f-805977560fa4",
   "metadata": {},
   "outputs": [
    {
     "name": "stdout",
     "output_type": "stream",
     "text": [
      "33752119\n"
     ]
    }
   ],
   "source": [
    "print(len(qids))"
   ]
  },
  {
   "cell_type": "code",
   "execution_count": 55,
   "id": "a851ce26-8c7b-4eba-8d9c-0bf12eb38920",
   "metadata": {},
   "outputs": [
    {
     "name": "stdout",
     "output_type": "stream",
     "text": [
      "1000000\n",
      "2000000\n",
      "3000000\n",
      "4000000\n",
      "5000000\n",
      "6000000\n",
      "7000000\n",
      "8000000\n",
      "9000000\n",
      "10000000\n",
      "11000000\n",
      "12000000\n",
      "13000000\n",
      "14000000\n",
      "15000000\n",
      "16000000\n",
      "17000000\n",
      "18000000\n",
      "19000000\n",
      "20000000\n",
      "21000000\n",
      "22000000\n",
      "23000000\n",
      "24000000\n",
      "25000000\n",
      "26000000\n",
      "27000000\n",
      "28000000\n",
      "29000000\n",
      "30000000\n",
      "31000000\n",
      "32000000\n",
      "33000000\n"
     ]
    }
   ],
   "source": [
    "path = \"/Users/farhadghassemi/OneDrive/Courses/Stanford/Conversational Virtual Assistant with Deep Learning/Project/Datasets/refined_wikidata_entities.csv\"\n",
    "qids = sorted(list(qids))\n",
    "with open(path, \"w\") as csvfile:\n",
    "    csvwriter = csv.writer(csvfile)\n",
    "    i = 0\n",
    "    for qid in qids:\n",
    "        csvwriter.writerow([qid])\n",
    "        i += 1\n",
    "        if i%1000000==0:\n",
    "            print(i)"
   ]
  },
  {
   "cell_type": "code",
   "execution_count": null,
   "id": "42a8f3d9-b27b-42ba-b9f5-1c2cd66d0c15",
   "metadata": {},
   "outputs": [],
   "source": []
  }
 ],
 "metadata": {
  "kernelspec": {
   "display_name": "Python 3 (ipykernel)",
   "language": "python",
   "name": "python3"
  },
  "language_info": {
   "codemirror_mode": {
    "name": "ipython",
    "version": 3
   },
   "file_extension": ".py",
   "mimetype": "text/x-python",
   "name": "python",
   "nbconvert_exporter": "python",
   "pygments_lexer": "ipython3",
   "version": "3.8.18"
  }
 },
 "nbformat": 4,
 "nbformat_minor": 5
}
